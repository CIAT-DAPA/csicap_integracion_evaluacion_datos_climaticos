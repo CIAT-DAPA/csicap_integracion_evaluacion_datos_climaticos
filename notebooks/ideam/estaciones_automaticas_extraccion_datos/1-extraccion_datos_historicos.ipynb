{
 "cells": [
  {
   "cell_type": "code",
   "execution_count": 1,
   "id": "6737862c-93f5-4d15-8c60-0a337f36b2d0",
   "metadata": {
    "tags": []
   },
   "outputs": [],
   "source": [
    "# Instalación de librerias necesarias\n",
    "#!pip install sodapy # Utilidad para acceder a los datos publicados en datos.org\n",
    "#!pip install dask # Utilidad para paralelizar el proceso de descarga"
   ]
  },
  {
   "cell_type": "code",
   "execution_count": 1,
   "id": "63b8a5c3-9e0e-4863-a3b3-d45998f20873",
   "metadata": {
    "tags": []
   },
   "outputs": [
    {
     "data": {
      "text/plain": [
       "<dask.config.set at 0x7f260de2a620>"
      ]
     },
     "execution_count": 1,
     "metadata": {},
     "output_type": "execute_result"
    }
   ],
   "source": [
    "# Importar librerias que se necesitan para la ejecución del codigo\n",
    "import pandas as pd\n",
    "from sodapy import Socrata\n",
    "from google.cloud import bigquery\n",
    "from dask import dataframe as dd\n",
    "from dask.diagnostics import ProgressBar\n",
    "import dask\n",
    "dask.config.set({'logging.distributed': 'error'})"
   ]
  },
  {
   "cell_type": "code",
   "execution_count": 4,
   "id": "baae2db3-733c-4a8e-94e9-c8d2ee1df444",
   "metadata": {
    "tags": []
   },
   "outputs": [],
   "source": [
    "# Consulta SQL para obtener los códigos de las estaciones\n",
    "query_stations = \"\"\" \n",
    "    SELECT LPAD(codigo, 10, '0') AS codigo_estacion\n",
    "    FROM `ideam.stations_catalog`\n",
    "\"\"\"\n",
    "\n",
    "# URL base del servicio de datos\n",
    "url = \"www.datos.gov.co\"\n",
    "\n",
    "# Endpoints para diferentes datos climáticos\n",
    "# - \"sbwg-7ju4\" para temperatura\n",
    "# - \"s54a-sgyg\" para precipitación\n",
    "# Nota: La variable global 'endpoint' varía según el dato climático a descargar.\n",
    "endpoint = \"s54a-sgyg\"\n",
    "\n",
    "# Ruta del bucket en Google Cloud Storage donde se almacenarán los datos descargados\n",
    "bucket_store = \"gs://datalake-ideam/zone=landing/source=datos-org/\"\n",
    "\n",
    "# Tipo de variable climática a descargar\n",
    "variable = \"precipitacion\""
   ]
  },
  {
   "cell_type": "code",
   "execution_count": 5,
   "id": "33ae6a26-b357-4859-8567-304bd6513075",
   "metadata": {
    "tags": []
   },
   "outputs": [],
   "source": [
    "# Funciones para descargaar los datos\n",
    "\n",
    "def get_query_results(sql: str) -> pd.DataFrame:\n",
    "    \"\"\"\n",
    "    Ejecuta una consulta SQL en BigQuery y devuelve los resultados como un DataFrame de pandas.\n",
    "\n",
    "    Args:\n",
    "        sql (str): La consulta SQL a ejecutar.\n",
    "\n",
    "    Returns:\n",
    "        pd.DataFrame: Un DataFrame que contiene los resultados de la consulta.\n",
    "    \"\"\"\n",
    "    # Crea un cliente BigQuery\n",
    "    client = bigquery.Client()\n",
    "\n",
    "    # Ejecuta la consulta y convierte los resultados en un DataFrame\n",
    "    query = client.query(sql)\n",
    "    return query.result().to_dataframe()\n",
    "\n",
    "def get_soap_data(station_code: str, bucket_store: str):\n",
    "    \"\"\"\n",
    "    Obtiene datos de una API SOAP usando el código de una estación y los guarda como un archivo Parquet en un bucket de almacenamiento.\n",
    "\n",
    "    Args:\n",
    "        station_code (str): Código de la estación para filtrar los datos.\n",
    "        bucket_store (str): Ruta al bucket donde se almacenará el archivo Parquet.\n",
    "\n",
    "    Returns:\n",
    "        None\n",
    "    \"\"\"\n",
    "    try:\n",
    "        # Crea un cliente para la API SOAP\n",
    "        client = Socrata(url, None, timeout=180)\n",
    "        \n",
    "        # Obtiene los resultados de la API filtrados por el código de la estación\n",
    "        results = client.get(endpoint, limit=20000, where=f\"codigoestacion = '{station_code}'\")\n",
    "        \n",
    "        # Convierte los resultados a un DataFrame de pandas\n",
    "        results_df = pd.DataFrame.from_records(results)\n",
    "        \n",
    "        # Si hay datos disponibles, guárdalos como un archivo Parquet\n",
    "        if results_df.shape[0] > 0:\n",
    "            results_df.to_parquet(bucket_store + f'{variable}_{station_code}.parquet')\n",
    "    except Exception as e:\n",
    "        # Maneja cualquier excepción y muestra un mensaje de error\n",
    "        print(f\"Algo ha ocurrido: {e}\")"
   ]
  },
  {
   "cell_type": "code",
   "execution_count": 6,
   "id": "cb567a5a-2e0a-48e8-88fb-d97e6c045a93",
   "metadata": {
    "tags": []
   },
   "outputs": [],
   "source": [
    "stations_df = get_query_results(query_stations)\n",
    "dask_stations_df = dd.from_pandas(stations_df\n",
    "                                  , npartitions = 200)"
   ]
  },
  {
   "cell_type": "code",
   "execution_count": null,
   "id": "a3d071fe-0bac-4147-bf54-43e96947e351",
   "metadata": {
    "tags": []
   },
   "outputs": [],
   "source": [
    "\n",
    "with ProgressBar():\n",
    "    dask_stations_df.map_partitions(lambda df: df.codigo_estacion.apply(lambda x:\n",
    "                                                 get_soap_data(x\n",
    "                                                               ,bucket_store))       \n",
    "                                                       ,meta = {'name':object}\n",
    "                                                       ).compute(scheduler='processes')"
   ]
  }
 ],
 "metadata": {
  "environment": {
   "kernel": "conda-root-py",
   "name": "workbench-notebooks.m118",
   "type": "gcloud",
   "uri": "us-docker.pkg.dev/deeplearning-platform-release/gcr.io/workbench-notebooks:m118"
  },
  "kernelspec": {
   "display_name": "base",
   "language": "python",
   "name": "python3"
  },
  "language_info": {
   "codemirror_mode": {
    "name": "ipython",
    "version": 3
   },
   "file_extension": ".py",
   "mimetype": "text/x-python",
   "name": "python",
   "nbconvert_exporter": "python",
   "pygments_lexer": "ipython3",
   "version": "3.9.13"
  }
 },
 "nbformat": 4,
 "nbformat_minor": 5
}
